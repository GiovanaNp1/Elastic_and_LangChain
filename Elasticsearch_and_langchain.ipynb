{
  "cells": [
    {
      "cell_type": "code",
      "execution_count": null,
      "metadata": {
        "colab": {
          "base_uri": "https://localhost:8080/"
        },
        "collapsed": true,
        "id": "0aXfHOqvYY7O",
        "outputId": "b0548664-7df7-489c-d991-546600fe0ae6"
      },
      "outputs": [],
      "source": [
        "pip install langchain-elasticsearch langchain_openai langchain langchain_core langchain-community"
      ]
    },
    {
      "cell_type": "code",
      "execution_count": null,
      "metadata": {
        "id": "yCktyuCjY392"
      },
      "outputs": [],
      "source": [
        "from langchain_elasticsearch import ElasticsearchStore\n",
        "\n",
        "es_store = (ElasticsearchStore( es_cloud_id=\"your-cloud-id\",\n",
        "    es_user=\"your-user\",\n",
        "    es_password=\"your-api-password\",\n",
        "    index_name=\"rag-example\",\n",
        "    strategy=ElasticsearchStore.SparseVectorRetrievalStrategy(model_id=\".elser_model_2\"),) )\n"
      ]
    },
    {
      "cell_type": "code",
      "execution_count": null,
      "metadata": {
        "colab": {
          "base_uri": "https://localhost:8080/"
        },
        "id": "As_HJy4mOVOE",
        "outputId": "7902d6b2-9f2d-4bbe-9d85-ee3229ddc250"
      },
      "outputs": [],
      "source": [
        "texts = [\n",
        "    \"LangChain is a framework for developing applications powered by large language models (LLMs).\",\n",
        "    \"Elasticsearch is a distributed, RESTful search and analytics engine capable of addressing a growing number of use cases.\",\n",
        "]\n",
        "es_store.add_texts(texts)\n"
      ]
    },
    {
      "cell_type": "code",
      "execution_count": null,
      "metadata": {
        "id": "XMgvDHEYEG8J"
      },
      "outputs": [],
      "source": [
        "from langchain_openai import ChatOpenAI\n",
        "\n",
        "llm = ChatOpenAI(api_key=\"sk-...\",\n",
        "                  max_retries=5,\n",
        "                  timeout=15 )"
      ]
    },
    {
      "cell_type": "code",
      "execution_count": null,
      "metadata": {
        "colab": {
          "base_uri": "https://localhost:8080/",
          "height": 124
        },
        "id": "uzk_ommcFu_O",
        "outputId": "d129990e-2565-4e01-f5bf-f243de066cc4"
      },
      "outputs": [],
      "source": [
        "from langchain import hub\n",
        "from langchain_core.runnables import RunnablePassthrough\n",
        "from langchain.schema.output_parser import StrOutputParser\n",
        "\n",
        "prompt = hub.pull(\"rlm/rag-prompt\")\n",
        "\n",
        "retriever = es_store.as_retriever()\n",
        "\n",
        "def format_docs(docs):\n",
        "    return \"\\n\\n\".join(doc.page_content for doc in docs)\n",
        "\n",
        "rag_chain = (\n",
        "    {\"context\": retriever | format_docs, \"question\": RunnablePassthrough()}\n",
        "    | prompt\n",
        "    | llm\n",
        "    | StrOutputParser()\n",
        ")\n",
        "\n",
        "rag_chain.invoke(\"Which frameworks can help me build LLM apps?\")\n"
      ]
    },
    {
      "cell_type": "code",
      "execution_count": null,
      "metadata": {
        "colab": {
          "base_uri": "https://localhost:8080/"
        },
        "id": "65rLU2_MLCIm",
        "outputId": "ca1da5a7-1181-4d9d-993a-386134271f66"
      },
      "outputs": [],
      "source": [
        "rag_chain.invoke(\"How make a cake?\")"
      ]
    },
    {
      "cell_type": "code",
      "execution_count": null,
      "metadata": {
        "id": "BQRA1rIWLFa0"
      },
      "outputs": [],
      "source": [
        "from typing import Any, Dict, Iterable\n",
        "\n",
        "from elasticsearch import Elasticsearch\n",
        "from elasticsearch.helpers import bulk\n",
        "from langchain_community.embeddings import DeterministicFakeEmbedding\n",
        "from langchain_core.documents import Document\n",
        "from langchain_core.embeddings import Embeddings\n",
        "from langchain_elasticsearch import ElasticsearchRetriever\n",
        "\n",
        "def text_similarity_reranking(search_query: str) -> Dict:\n",
        "    return {\n",
        "        \"retriever\": {\n",
        "            \"text_similarity_reranker\": {\n",
        "                \"retriever\": {\n",
        "                    \"standard\": {\n",
        "                        \"query\": {\n",
        "                            \"match\": {\n",
        "                                \"text_field\": search_query\n",
        "                            }\n",
        "                        }\n",
        "                    }\n",
        "                },\n",
        "                \"field\": \"text_field\",\n",
        "                \"inference_id\": \"cohere-rerank-service\",\n",
        "                \"inference_text\": search_query,\n",
        "                \"window_size\": 10\n",
        "            }\n",
        "        }\n",
        "    }\n",
        "\n",
        "retriever = ElasticsearchRetriever.from_es_params(\n",
        "    cloud_id=\"your-cloud-id\",\n",
        "    index_name=\"rag-example-2\",\n",
        "    content_field=\"text_field\",\n",
        "    body_func=text_similarity_reranking,\n",
        "    username=\"your-username\",\n",
        "    password=\"your-password\",\n",
        ")"
      ]
    },
    {
      "cell_type": "code",
      "execution_count": null,
      "metadata": {
        "id": "1PcjIs_mW-nM"
      },
      "outputs": [],
      "source": [
        "from langchain_elasticsearch import ElasticsearchStore\n",
        "from langchain.embeddings import OpenAIEmbeddings\n",
        "\n",
        "vector_store = ElasticsearchStore(\n",
        "    \"langchain-demo\",\n",
        "    embedding=OpenAIEmbeddings(api_key=\"your-open-ai-api-key\",max_retries=5,timeout=15),\n",
        "    es_cloud_id=\"your-cloud-id\",\n",
        "    es_user=\"your-user\",\n",
        "    es_password=\"your-password\",\n",
        ")"
      ]
    },
    {
      "cell_type": "code",
      "execution_count": null,
      "metadata": {
        "colab": {
          "base_uri": "https://localhost:8080/"
        },
        "id": "l3_KmaefePzS",
        "outputId": "8b0012c5-9241-4d41-c4a1-adc61900e708"
      },
      "outputs": [],
      "source": [
        "from uuid import uuid4\n",
        "\n",
        "from langchain_core.documents import Document\n",
        "\n",
        "document_1 = Document(\n",
        "    page_content=\"I had chocalate chip pancakes and scrambled eggs for breakfast this morning.\",\n",
        "    metadata={\"source\": \"tweet\"},\n",
        ")\n",
        "\n",
        "document_2 = Document(\n",
        "    page_content=\"The weather forecast for tomorrow is cloudy and overcast, with a high of 62 degrees.\",\n",
        "    metadata={\"source\": \"news\"},\n",
        ")\n",
        "\n",
        "document_3 = Document(\n",
        "    page_content=\"Building an exciting new project with LangChain - come check it out!\",\n",
        "    metadata={\"source\": \"tweet\"},\n",
        ")\n",
        "\n",
        "document_4 = Document(\n",
        "    page_content=\"Robbers broke into the city bank and stole $1 million in cash.\",\n",
        "    metadata={\"source\": \"news\"},\n",
        ")\n",
        "\n",
        "document_5 = Document(\n",
        "    page_content=\"Wow! That was an amazing movie. I can't wait to see it again.\",\n",
        "    metadata={\"source\": \"tweet\"},\n",
        ")\n",
        "\n",
        "document_6 = Document(\n",
        "    page_content=\"Is the new iPhone worth the price? Read this review to find out.\",\n",
        "    metadata={\"source\": \"website\"},\n",
        ")\n",
        "\n",
        "document_7 = Document(\n",
        "    page_content=\"The top 10 soccer players in the world right now.\",\n",
        "    metadata={\"source\": \"website\"},\n",
        ")\n",
        "\n",
        "document_8 = Document(\n",
        "    page_content=\"LangGraph is the best framework for building stateful, agentic applications!\",\n",
        "    metadata={\"source\": \"tweet\"},\n",
        ")\n",
        "\n",
        "document_9 = Document(\n",
        "    page_content=\"The stock market is down 500 points today due to fears of a recession.\",\n",
        "    metadata={\"source\": \"news\"},\n",
        ")\n",
        "\n",
        "document_10 = Document(\n",
        "    page_content=\"I have a bad feeling I am going to get deleted :(\",\n",
        "    metadata={\"source\": \"tweet\"},\n",
        ")\n",
        "\n",
        "documents = [\n",
        "    document_1,\n",
        "    document_2,\n",
        "    document_3,\n",
        "    document_4,\n",
        "    document_5,\n",
        "    document_6,\n",
        "    document_7,\n",
        "    document_8,\n",
        "    document_9,\n",
        "    document_10,\n",
        "]\n",
        "uuids = [str(uuid4()) for _ in range(len(documents))]\n",
        "\n",
        "vector_store.add_documents(documents=documents, ids=uuids)"
      ]
    },
    {
      "cell_type": "code",
      "execution_count": null,
      "metadata": {
        "colab": {
          "base_uri": "https://localhost:8080/"
        },
        "id": "fMeXJzigfJC4",
        "outputId": "4f472de1-5c60-4908-af4b-208e04924d81"
      },
      "outputs": [],
      "source": [
        "results = vector_store.similarity_search(\n",
        "    query=\"LangChain provides abstractions to make working with LLMs easy\",\n",
        "    k=2,\n",
        "    filter=[{\"term\": {\"metadata.source.keyword\": \"tweet\"}}],\n",
        ")\n",
        "for res in results:\n",
        "    print(f\"* {res.page_content} [{res.metadata}]\")"
      ]
    },
    {
      "cell_type": "code",
      "execution_count": null,
      "metadata": {
        "colab": {
          "base_uri": "https://localhost:8080/"
        },
        "id": "WCBGLJSGfTEH",
        "outputId": "00d4eaf2-0e7f-49cb-d593-ec00dbf34d56"
      },
      "outputs": [
        {
          "name": "stdout",
          "output_type": "stream",
          "text": [
            "* [SIM=0.914276] The weather forecast for tomorrow is cloudy and overcast, with a high of 62 degrees. [{'source': 'news'}]\n"
          ]
        }
      ],
      "source": [
        "results = vector_store.similarity_search_with_score(\n",
        "    query=\"Will it be hot tomorrow\",\n",
        "    k=1,\n",
        "    filter=[{\"term\": {\"metadata.source.keyword\": \"news\"}}],\n",
        ")\n",
        "for doc, score in results:\n",
        "    print(f\"* [SIM={score:3f}] {doc.page_content} [{doc.metadata}]\")"
      ]
    },
    {
      "cell_type": "code",
      "execution_count": null,
      "metadata": {
        "colab": {
          "base_uri": "https://localhost:8080/"
        },
        "id": "4kBQakotfZRp",
        "outputId": "286da20d-779f-4b8e-d7c2-103d602ddcba"
      },
      "outputs": [
        {
          "data": {
            "text/plain": [
              "[Document(metadata={'source': 'news'}, page_content='Robbers broke into the city bank and stole $1 million in cash.'),\n",
              " Document(metadata={'source': 'news'}, page_content='The stock market is down 500 points today due to fears of a recession.'),\n",
              " Document(metadata={'source': 'tweet'}, page_content='I have a bad feeling I am going to get deleted :('),\n",
              " Document(metadata={'source': 'tweet'}, page_content='I had chocalate chip pancakes and scrambled eggs for breakfast this morning.')]"
            ]
          },
          "execution_count": 100,
          "metadata": {},
          "output_type": "execute_result"
        }
      ],
      "source": [
        "retriever = vector_store.as_retriever(\n",
        "    search_type=\"similarity_score_threshold\", search_kwargs={\"score_threshold\": 0.2}\n",
        ")\n",
        "retriever.invoke(\"Stealing from the bank is a crime\")"
      ]
    }
  ],
  "metadata": {
    "colab": {
      "provenance": []
    },
    "kernelspec": {
      "display_name": "Python 3",
      "name": "python3"
    },
    "language_info": {
      "name": "python"
    }
  },
  "nbformat": 4,
  "nbformat_minor": 0
}
